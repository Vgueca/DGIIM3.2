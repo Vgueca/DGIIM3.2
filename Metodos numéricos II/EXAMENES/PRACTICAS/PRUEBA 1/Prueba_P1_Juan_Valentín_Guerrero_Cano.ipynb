{
 "cells": [
  {
   "cell_type": "code",
   "execution_count": 1,
   "id": "b8ebd12f",
   "metadata": {},
   "outputs": [],
   "source": [
    "import numpy as np \n",
    "%matplotlib inline\n",
    "import matplotlib.pyplot as plt\n",
    "import sympy as sp\n"
   ]
  },
  {
   "cell_type": "code",
   "execution_count": 2,
   "id": "5727a786",
   "metadata": {},
   "outputs": [
    {
     "data": {
      "text/plain": [
       "Context(prec=28, rounding=ROUND_HALF_EVEN, Emin=-999999, Emax=999999, capitals=1, clamp=0, flags=[], traps=[InvalidOperation, DivisionByZero, Overflow])"
      ]
     },
     "execution_count": 2,
     "metadata": {},
     "output_type": "execute_result"
    }
   ],
   "source": [
    "from numpy import sign \n",
    "from decimal import *\n",
    "getcontext()"
   ]
  },
  {
   "cell_type": "code",
   "execution_count": 3,
   "id": "f6afc48e",
   "metadata": {},
   "outputs": [
    {
     "name": "stdout",
     "output_type": "stream",
     "text": [
      "27\n"
     ]
    }
   ],
   "source": [
    "#MI DNI : 45338112Y\n",
    "S= 4+5+3+3+8+1+1+2\n",
    "print(S)"
   ]
  },
  {
   "cell_type": "code",
   "execution_count": 4,
   "id": "388ab775",
   "metadata": {},
   "outputs": [
    {
     "name": "stdout",
     "output_type": "stream",
     "text": [
      "3.375\n"
     ]
    }
   ],
   "source": [
    "M= S/8\n",
    "print(M)"
   ]
  },
  {
   "cell_type": "code",
   "execution_count": 5,
   "id": "f41a1cc0",
   "metadata": {},
   "outputs": [],
   "source": [
    "x = sp.Symbol('x')"
   ]
  },
  {
   "cell_type": "code",
   "execution_count": 6,
   "id": "51e97e1d",
   "metadata": {},
   "outputs": [],
   "source": [
    "def fnum(x):\n",
    "    return x**3+M*x+S"
   ]
  },
  {
   "cell_type": "code",
   "execution_count": 7,
   "id": "b87038d0",
   "metadata": {},
   "outputs": [],
   "source": [
    "def fsym(x):\n",
    "    return x**3+M*x+S"
   ]
  },
  {
   "cell_type": "code",
   "execution_count": 8,
   "id": "e229c843",
   "metadata": {},
   "outputs": [],
   "source": [
    "def f(x):\n",
    "    return fsym(x)"
   ]
  },
  {
   "cell_type": "code",
   "execution_count": 9,
   "id": "1afaccb7",
   "metadata": {},
   "outputs": [],
   "source": [
    "a= -10; b=10;"
   ]
  },
  {
   "cell_type": "code",
   "execution_count": 10,
   "id": "c9135b31",
   "metadata": {},
   "outputs": [
    {
     "data": {
      "text/plain": [
       "(-1006.75, 1060.75)"
      ]
     },
     "execution_count": 10,
     "metadata": {},
     "output_type": "execute_result"
    }
   ],
   "source": [
    "f(a), f(b)"
   ]
  },
  {
   "cell_type": "code",
   "execution_count": 11,
   "id": "3385b479",
   "metadata": {},
   "outputs": [
    {
     "data": {
      "image/png": "[encoded data removed]",
      "text/plain": [
       "<Figure size 432x288 with 1 Axes>"
      ]
     },
     "metadata": {
      "needs_background": "light"
     },
     "output_type": "display_data"
    },
    {
     "data": {
      "text/plain": [
       "<sympy.plotting.plot.Plot at 0x19f983c22e0>"
      ]
     },
     "execution_count": 11,
     "metadata": {},
     "output_type": "execute_result"
    }
   ],
   "source": [
    "sp.plot(f(x),(x,a,b))"
   ]
  },
  {
   "cell_type": "markdown",
   "id": "23b8a55f",
   "metadata": {},
   "source": [
    "Claramente la raíz de nuestra función en cuestión está comprendida entre el intervalo [-10,10]. "
   ]
  },
  {
   "cell_type": "code",
   "execution_count": 12,
   "id": "51836e36",
   "metadata": {},
   "outputs": [],
   "source": [
    "a=-3; b=-2"
   ]
  },
  {
   "cell_type": "code",
   "execution_count": 13,
   "id": "dcdea794",
   "metadata": {},
   "outputs": [
    {
     "data": {
      "image/png": "[encoded data removed]",
      "text/plain": [
       "<Figure size 432x288 with 1 Axes>"
      ]
     },
     "metadata": {
      "needs_background": "light"
     },
     "output_type": "display_data"
    },
    {
     "data": {
      "text/plain": [
       "<sympy.plotting.plot.Plot at 0x19f983bbc70>"
      ]
     },
     "execution_count": 13,
     "metadata": {},
     "output_type": "execute_result"
    }
   ],
   "source": [
    "sp.plot(f(x),(x,a,b))"
   ]
  },
  {
   "cell_type": "markdown",
   "id": "51ee269c",
   "metadata": {},
   "source": [
    "Claramente la raíz esta situada ahora en un intervalo de longitud 1, [-3,-2] Realicemos ahora el método de bisección con una tolerancia de 1 décima (tol = 10^-1) y asumiremos como precisión 10^-5  y como cifras significativas para el redondeo final 5. Mostraremos las iteraciones necesarias para conseguir la raíz que respete los parámetros de control antes mencionados en el intervalo propuesto."
   ]
  },
  {
   "cell_type": "code",
   "execution_count": 14,
   "id": "25b4e454",
   "metadata": {},
   "outputs": [],
   "source": [
    "def biseccion(f, a,b, prec=10**-5, tol=10*-1, maxiteraciones = 100, cifras = 5):\n",
    "    # Ahora con la precisión asociada al nº de cifras solicitadas\n",
    "    niter = 0; sale =''\n",
    "    getcontext().prec = cifras\n",
    "    for k in range(maxiteraciones):\n",
    "        niter = niter + 1;\n",
    "        c = a + (b-a)/2 # equivalente a c = (a+b)/2\n",
    "        if abs(f(c)) < prec:\n",
    "            sale = 'precision'\n",
    "            break\n",
    "        if sign(f(a)) != sign(f(c)):\n",
    "            b = c\n",
    "        else:\n",
    "            a = c\n",
    "        if b-a < tol:\n",
    "            sale = 'tolerancia'\n",
    "            break\n",
    "\n",
    "    if sale == 'precision':\n",
    "        print('Posiblemente solución exacta: ',Decimal(c))\n",
    "    elif niter < nmax:\n",
    "        print('Aproximación solicitada: ',c)\n",
    "    else:\n",
    "        print('Se llegó al número máximo de iteraciones')\n",
    "    print('Solución exacta con ', cifras, ' cifras significativas', round(c, cifras))\n",
    "    print('Número total de iteraciones ', niter)\n",
    "    resultado = c\n",
    "    "
   ]
  },
  {
   "cell_type": "code",
   "execution_count": 15,
   "id": "8ebaa1ad",
   "metadata": {},
   "outputs": [
    {
     "name": "stdout",
     "output_type": "stream",
     "text": [
      "Posiblemente solución exacta:  -2.6271915435791015625\n",
      "Solución exacta con  5  cifras significativas -2.62719\n",
      "Número total de iteraciones  19\n"
     ]
    }
   ],
   "source": [
    "biseccion(f,-3,-2)"
   ]
  },
  {
   "cell_type": "markdown",
   "id": "06c974a6",
   "metadata": {},
   "source": [
    "Ahora emplemos 10 iteraciones más, partiendo de la aproximación anterior con el algoritmo Newton-Raphson"
   ]
  },
  {
   "cell_type": "code",
   "execution_count": 16,
   "id": "a9f0e17d",
   "metadata": {},
   "outputs": [
    {
     "data": {
      "text/plain": [
       "(x**3 + 3.375*x + 27, 3*x**2 + 3.375)"
      ]
     },
     "execution_count": 16,
     "metadata": {},
     "output_type": "execute_result"
    }
   ],
   "source": [
    "f(x),sp.diff(f(x),x)"
   ]
  },
  {
   "cell_type": "code",
   "execution_count": 17,
   "id": "f8656ef1",
   "metadata": {},
   "outputs": [],
   "source": [
    "def df(x):\n",
    "    return 3*x**2 + 3.375"
   ]
  },
  {
   "cell_type": "code",
   "execution_count": 18,
   "id": "560cf4c6",
   "metadata": {},
   "outputs": [],
   "source": [
    "x0= -2.6271915435791015625"
   ]
  },
  {
   "cell_type": "code",
   "execution_count": 19,
   "id": "dfb401bb",
   "metadata": {},
   "outputs": [
    {
     "name": "stdout",
     "output_type": "stream",
     "text": [
      "Resultado después de 10 iteraciones con el método Newton-Raphson -2.627191409343675\n"
     ]
    }
   ],
   "source": [
    "niter = 0;\n",
    "m =df(x0);  # pendiente inicial\n",
    "\n",
    "for k in range(10):\n",
    "    niter = niter + 1;\n",
    "    x1 = x0 - f(x0)/m  # método de Whitaker\n",
    "    # Cambiar m por Decimal(df(x0)) para variar en cada iteración la pendiente (Método Newton-Raphson)\n",
    "    m=df(x1);\n",
    "\n",
    "print(\"Resultado después de 10 iteraciones con el método Newton-Raphson\",x1)"
   ]
  },
  {
   "cell_type": "markdown",
   "id": "c19011cb",
   "metadata": {},
   "source": [
    "Comparemos los resultados obtenido con la solución exacta mediante la orden solve a la que le pasaremos como parámetros la función evaluada, y le pediremos que nos muestre nuestra raíz en concreto que estamos estudiando y no el resto."
   ]
  },
  {
   "cell_type": "code",
   "execution_count": 20,
   "id": "5227d51f",
   "metadata": {},
   "outputs": [],
   "source": [
    "from sympy.solvers import solve"
   ]
  },
  {
   "cell_type": "code",
   "execution_count": 21,
   "id": "40d4a036",
   "metadata": {},
   "outputs": [
    {
     "data": {
      "text/latex": [
       "$\\displaystyle -2.62719140934368$"
      ],
      "text/plain": [
       "-2.62719140934368"
      ]
     },
     "execution_count": 21,
     "metadata": {},
     "output_type": "execute_result"
    }
   ],
   "source": [
    "solve(x**3+M*x+S,x)[0]"
   ]
  },
  {
   "cell_type": "code",
   "execution_count": 22,
   "id": "7db86f27",
   "metadata": {},
   "outputs": [
    {
     "name": "stdout",
     "output_type": "stream",
     "text": [
      "Diferencia con método de bisección: 1.342354214450836e-07\n"
     ]
    }
   ],
   "source": [
    "print(\"Diferencia con método de bisección:\", abs(-2.6271915435791015625 - -2.62719140934368))"
   ]
  },
  {
   "cell_type": "code",
   "execution_count": 23,
   "id": "69807b93",
   "metadata": {},
   "outputs": [
    {
     "name": "stdout",
     "output_type": "stream",
     "text": [
      "Diferencia con método de Newton-Raphson: 5.329070518200751e-15\n"
     ]
    }
   ],
   "source": [
    "print(\"Diferencia con método de Newton-Raphson:\", abs(-2.62719140934368 - -2.627191409343675))"
   ]
  },
  {
   "cell_type": "markdown",
   "id": "f603c6e0",
   "metadata": {},
   "source": [
    "Finalmente podemos observar que mediante las 10 iteraciones extra del método Newton-Raphson aproximamos mejor la raíz que buscábamos"
   ]
  }
 ],
 "metadata": {
  "kernelspec": {
   "display_name": "Python 3 (ipykernel)",
   "language": "python",
   "name": "python3"
  },
  "language_info": {
   "codemirror_mode": {
    "name": "ipython",
    "version": 3
   },
   "file_extension": ".py",
   "mimetype": "text/x-python",
   "name": "python",
   "nbconvert_exporter": "python",
   "pygments_lexer": "ipython3",
   "version": "3.9.7"
  }
 },
 "nbformat": 4,
 "nbformat_minor": 5
}
