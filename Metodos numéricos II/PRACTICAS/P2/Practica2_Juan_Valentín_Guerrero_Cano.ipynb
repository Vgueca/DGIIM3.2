{
 "cells": [
  {
   "cell_type": "code",
   "execution_count": 1,
   "id": "cd3c4f43",
   "metadata": {},
   "outputs": [],
   "source": [
    "import numpy as np\n",
    "import sympy as sp\n",
    "import matplotlib.pyplot as plt\n",
    "from random import random "
   ]
  },
  {
   "cell_type": "markdown",
   "id": "7c9b3f8e",
   "metadata": {},
   "source": [
    "# Ejercicios Práctica 2 Resueltos:"
   ]
  },
  {
   "cell_type": "markdown",
   "id": "9fe42eb0",
   "metadata": {},
   "source": [
    "1.- Obtenga mediante interpolación en el espacio $\\mathbb{P}_2$ una fórmula para aproximar $f''(a)$ del tipo combinación\n",
    "de $f(a-h)$, $f(a)$ y $f(a+h)$.\n"
   ]
  },
  {
   "cell_type": "markdown",
   "id": "2f9e45a2",
   "metadata": {},
   "source": [
    "Obtendremos la interpolación correspondiente mediante Lagrange"
   ]
  },
  {
   "cell_type": "code",
   "execution_count": 2,
   "id": "82ec040a",
   "metadata": {},
   "outputs": [],
   "source": [
    "f = sp.Function('f')\n",
    "a,h = sp.symbols('a,h')\n",
    "x = [a-h,a,a+h]"
   ]
  },
  {
   "cell_type": "code",
   "execution_count": 3,
   "id": "b4163753",
   "metadata": {},
   "outputs": [],
   "source": [
    "y=[f(x[0]), f(x[1]), f(x[2])]"
   ]
  },
  {
   "cell_type": "code",
   "execution_count": 4,
   "id": "2deee89c",
   "metadata": {},
   "outputs": [
    {
     "data": {
      "text/latex": [
       "$\\displaystyle f{\\left(a - h \\right)} + \\frac{\\left(f{\\left(a \\right)} - f{\\left(a - h \\right)}\\right) \\left(- a + h + z\\right)}{h} + \\frac{\\left(- a + z\\right) \\left(- a + h + z\\right) \\left(- 2 f{\\left(a \\right)} + f{\\left(a - h \\right)} + f{\\left(a + h \\right)}\\right)}{2 h^{2}}$"
      ],
      "text/plain": [
       "f(a - h) + (f(a) - f(a - h))*(-a + h + z)/h + (-a + z)*(-a + h + z)*(-2*f(a) + f(a - h) + f(a + h))/(2*h**2)"
      ]
     },
     "execution_count": 4,
     "metadata": {},
     "output_type": "execute_result"
    }
   ],
   "source": [
    "z = sp.Symbol('z')\n",
    "p0 = y[0]\n",
    "p1 = p0 + (z-x[0])/(x[1]-x[0])*(y[1]-y[0])\n",
    "D = sp.Symbol('D')\n",
    "p2 = p1 + (z-x[0])*(z-x[1])*D\n",
    "sol2 = sp.solve(p2.subs({z:x[2]})-y[2],D)\n",
    "D = sol2[0]\n",
    "p2 = p1 + (z-x[0])*(z-x[1])*D\n",
    "p2"
   ]
  },
  {
   "cell_type": "markdown",
   "id": "6d528b6b",
   "metadata": {},
   "source": [
    "Comprobamos que la función "
   ]
  },
  {
   "cell_type": "code",
   "execution_count": 5,
   "id": "d4c6a0ca",
   "metadata": {},
   "outputs": [
    {
     "data": {
      "text/plain": [
       "[True, True, True]"
      ]
     },
     "execution_count": 5,
     "metadata": {},
     "output_type": "execute_result"
    }
   ],
   "source": [
    "[p2.subs({z:x[0]})==y[0],p2.subs({z:x[1]})==y[1], p2.subs({z:x[2]})==y[2]]"
   ]
  },
  {
   "cell_type": "markdown",
   "id": "511e9c92",
   "metadata": {},
   "source": [
    "Calculamos la segunda derivada:"
   ]
  },
  {
   "cell_type": "code",
   "execution_count": 6,
   "id": "a8e4280c",
   "metadata": {},
   "outputs": [
    {
     "data": {
      "text/latex": [
       "$\\displaystyle \\frac{- 2 f{\\left(a \\right)} + f{\\left(a - h \\right)} + f{\\left(a + h \\right)}}{h^{2}}$"
      ],
      "text/plain": [
       "(-2*f(a) + f(a - h) + f(a + h))/h**2"
      ]
     },
     "execution_count": 6,
     "metadata": {},
     "output_type": "execute_result"
    }
   ],
   "source": [
    "sp.diff(p2,z,2).subs({z:a}).simplify()"
   ]
  },
  {
   "cell_type": "markdown",
   "id": "90e779d9",
   "metadata": {},
   "source": [
    "2.- Con la fórmula obtenida en el ejercicio 1, halle una tabla de aproximaciones y errores de $f_1''(2.5)$, siendo $f_1(x)=x^x$, para $h=10^{-i},\\; i=1,\\ldots,5.$\n"
   ]
  },
  {
   "cell_type": "code",
   "execution_count": 7,
   "id": "98ae396a",
   "metadata": {},
   "outputs": [],
   "source": [
    "def f1(z):\n",
    "    return z**z\n",
    "f= f1"
   ]
  },
  {
   "cell_type": "code",
   "execution_count": 8,
   "id": "f3e26aaf",
   "metadata": {},
   "outputs": [
    {
     "data": {
      "text/latex": [
       "$\\displaystyle 40.2416648563875$"
      ],
      "text/plain": [
       "40.2416648563875"
      ]
     },
     "execution_count": 8,
     "metadata": {},
     "output_type": "execute_result"
    }
   ],
   "source": [
    "valoresexactosderivadasegunda  = sp.diff(f(z),z,2).subs({z:2.5})\n",
    "valoresexactosderivadasegunda "
   ]
  },
  {
   "cell_type": "code",
   "execution_count": 9,
   "id": "63c24fa2",
   "metadata": {},
   "outputs": [],
   "source": [
    "def formula(f, a, h):\n",
    "    return (-2*f(a)+f(a-h)+f(a+h))/h**2"
   ]
  },
  {
   "cell_type": "code",
   "execution_count": 10,
   "id": "ef305523",
   "metadata": {},
   "outputs": [
    {
     "data": {
      "text/plain": [
       "[40.42056829795832,\n",
       " 40.243450230939004,\n",
       " 40.24168270788664,\n",
       " 40.24166475602442,\n",
       " 40.24164113047845]"
      ]
     },
     "execution_count": 10,
     "metadata": {},
     "output_type": "execute_result"
    }
   ],
   "source": [
    "valoresaproximadosderivadasegunda =[formula(f=lambda z:z**z, a=2.5, h=10**(-i)) for i in range(1,6)]\n",
    "valoresaproximadosderivadasegunda"
   ]
  },
  {
   "cell_type": "code",
   "execution_count": 11,
   "id": "11b35949",
   "metadata": {},
   "outputs": [],
   "source": [
    "errores = [abs(valoresaproximadosderivadasegunda - valoresexactosderivadasegunda) for valoresaproximadosderivadasegunda in valoresaproximadosderivadasegunda]"
   ]
  },
  {
   "cell_type": "code",
   "execution_count": 12,
   "id": "8828ce08",
   "metadata": {},
   "outputs": [
    {
     "name": "stdout",
     "output_type": "stream",
     "text": [
      "Diferencia entre el valor aproximado mediante la fórmula empleada y el valor exacto \n",
      "0.178903441570853\n",
      "0.00178537455153815\n",
      "1.78514991731049e-5\n",
      "1.00363045874019e-7\n",
      "2.37259090170028e-5\n"
     ]
    }
   ],
   "source": [
    "print(\"Diferencia entre el valor aproximado mediante la fórmula empleada y el valor exacto \")\n",
    "for i in range(1,6):\n",
    "    print(errores[i-1])"
   ]
  },
  {
   "cell_type": "markdown",
   "id": "bd9be450",
   "metadata": {},
   "source": [
    "3.- Sea $f_2(x)=\\frac{x^2+40}{x+\\sqrt{5x}+7}$. Calcule una tabla que recoja las derivadas de $f_2$ en $x_i=1,2,\\ldots,10$, utilizando alguna de las fórmulas de derivación numérica de primer orden obtenidas al inicio de la práctica, con $h=10^{-3}$, y muestre al mismo tiempo el error cometido en cada punto. Repita el ejercicio con la fórmula centrada obtenida para la derivada primera y, finalmente, para la obtenida en el ejercicio 1 (con respecto a la segunda derivada)."
   ]
  },
  {
   "cell_type": "markdown",
   "id": "9d5d601a",
   "metadata": {},
   "source": [
    "Utilizaremos la fórmula de derivación numérica de primer orden siguiente:\n",
    "$\\frac{f(a+h)-f(a)}{h}$"
   ]
  },
  {
   "cell_type": "code",
   "execution_count": 13,
   "id": "b5e63eb6",
   "metadata": {},
   "outputs": [],
   "source": [
    "def f2(z):\n",
    "    return (z**2+40)/(z+(5*z)**(1/2)+7)\n",
    "f = f2"
   ]
  },
  {
   "cell_type": "code",
   "execution_count": 14,
   "id": "10a97d29",
   "metadata": {},
   "outputs": [],
   "source": [
    "def formula(f, a, h):\n",
    "    return (f(a+h) - f(a))/h"
   ]
  },
  {
   "cell_type": "code",
   "execution_count": 15,
   "id": "812edd1a",
   "metadata": {},
   "outputs": [
    {
     "data": {
      "text/plain": [
       "[-0.6330758508230616,\n",
       " -0.20358841102519065,\n",
       " 0.013637834543889227,\n",
       " 0.15241382963759875,\n",
       " 0.2509073591920874,\n",
       " 0.32526720196468517,\n",
       " 0.3837792735330581,\n",
       " 0.43122332479583747,\n",
       " 0.47058475905004116,\n",
       " 0.5038394181333672]"
      ]
     },
     "execution_count": 15,
     "metadata": {},
     "output_type": "execute_result"
    }
   ],
   "source": [
    "valoresaprox = [formula(f=lambda z:(z**2+40)/(z+(5*z)**(1/2)+7), a=i, h=10**-3) for i in range(1,11)]\n",
    "valoresaprox"
   ]
  },
  {
   "cell_type": "code",
   "execution_count": 16,
   "id": "f93931e2",
   "metadata": {},
   "outputs": [
    {
     "data": {
      "text/plain": [
       "[-0.633413841504903,\n",
       " -0.203729991363422,\n",
       " 0.0135536765957583,\n",
       " 0.152356382446352,\n",
       " 0.250865051903114,\n",
       " 0.325234486346073,\n",
       " 0.383753089267232,\n",
       " 0.431201820656649,\n",
       " 0.470566739057635,\n",
       " 0.503824070415537]"
      ]
     },
     "execution_count": 16,
     "metadata": {},
     "output_type": "execute_result"
    }
   ],
   "source": [
    "valoresexactos = [sp.diff(f(z),z).subs({z:i}) for i in range(1,11)]\n",
    "valoresexactos"
   ]
  },
  {
   "cell_type": "code",
   "execution_count": 17,
   "id": "370654d2",
   "metadata": {},
   "outputs": [],
   "source": [
    "errores = [abs(val_aprox - val_exact) for (val_aprox, val_exact) in zip(valoresaprox, valoresexactos)]"
   ]
  },
  {
   "cell_type": "code",
   "execution_count": 18,
   "id": "6105d093",
   "metadata": {},
   "outputs": [
    {
     "name": "stdout",
     "output_type": "stream",
     "text": [
      "Diferencia entre el valor aproximado mediante la fórmula empleada y el valor exacto \n",
      "0.000337990681841038\n",
      "0.000141580338231473\n",
      "8.41579481308807e-5\n",
      "5.74471912467844e-5\n",
      "4.23072889731979e-5\n"
     ]
    }
   ],
   "source": [
    "print(\"Diferencia entre el valor aproximado mediante la fórmula empleada y el valor exacto \")\n",
    "for i in range(1,6):\n",
    "    print(errores[i-1])"
   ]
  },
  {
   "cell_type": "markdown",
   "id": "b35bcaa9",
   "metadata": {},
   "source": [
    "Utilizando ahora la fórmula centrada para la primera derivada: \n",
    "$\\frac{f(a+h)-f(a-h)}{2h}$. "
   ]
  },
  {
   "cell_type": "code",
   "execution_count": 19,
   "id": "f8adedf3",
   "metadata": {},
   "outputs": [],
   "source": [
    "def formula(f, a, h):\n",
    "    return (f(a+h) - f(a-h))/(2*h)"
   ]
  },
  {
   "cell_type": "code",
   "execution_count": 20,
   "id": "4e892a5c",
   "metadata": {},
   "outputs": [
    {
     "data": {
      "text/plain": [
       "[-0.6334139834538455,\n",
       " -0.20373002121565342,\n",
       " 0.013553664382381925,\n",
       " 0.15235637597976748,\n",
       " 0.25086504797688924,\n",
       " 0.3252344837485488,\n",
       " 0.38375308744642567,\n",
       " 0.4312018193228795,\n",
       " 0.4705667380475731,\n",
       " 0.50382406963001]"
      ]
     },
     "execution_count": 20,
     "metadata": {},
     "output_type": "execute_result"
    }
   ],
   "source": [
    "valoresaprox = [formula(f=lambda z:(z**2+40)/(z+(5*z)**(1/2)+7), a=i, h=10**-3) for i in range(1,11)]\n",
    "valoresaprox"
   ]
  },
  {
   "cell_type": "code",
   "execution_count": 21,
   "id": "1c369017",
   "metadata": {},
   "outputs": [],
   "source": [
    "errores = [abs(val_aprox - val_exact) for (val_aprox, val_exact) in zip(valoresaprox, valoresexactos)]"
   ]
  },
  {
   "cell_type": "code",
   "execution_count": 22,
   "id": "1001f3a2",
   "metadata": {},
   "outputs": [
    {
     "name": "stdout",
     "output_type": "stream",
     "text": [
      "Diferencia entre el valor aproximado mediante la fórmula empleada y el valor exacto \n",
      "1.41948942822268e-7\n",
      "2.98522312980332e-8\n",
      "1.22133764213217e-8\n",
      "6.46658449010573e-9\n",
      "3.92622495626327e-9\n"
     ]
    }
   ],
   "source": [
    "print(\"Diferencia entre el valor aproximado mediante la fórmula empleada y el valor exacto \")\n",
    "for i in range(1,6):\n",
    "    print(errores[i-1])"
   ]
  },
  {
   "cell_type": "markdown",
   "id": "0bcacdd6",
   "metadata": {},
   "source": [
    "Utilizando ahora la fórmula obtenida en el ejercicio 1:"
   ]
  },
  {
   "cell_type": "code",
   "execution_count": 23,
   "id": "3c36de93",
   "metadata": {},
   "outputs": [
    {
     "data": {
      "text/latex": [
       "$\\displaystyle \\frac{- 2 f{\\left(a \\right)} + f{\\left(a - h \\right)} + f{\\left(a + h \\right)}}{h^{2}}$"
      ],
      "text/plain": [
       "(-2*f(a) + f(a - h) + f(a + h))/h**2"
      ]
     },
     "execution_count": 23,
     "metadata": {},
     "output_type": "execute_result"
    }
   ],
   "source": [
    "sp.diff(p2,z,2).subs({z:a}).simplify()"
   ]
  },
  {
   "cell_type": "code",
   "execution_count": 24,
   "id": "114bcf75",
   "metadata": {},
   "outputs": [],
   "source": [
    "def formula(f, a, h):\n",
    "    return (-2*f(a) + f(a+h) + f(a-h))/(h**2)"
   ]
  },
  {
   "cell_type": "code",
   "execution_count": 25,
   "id": "2831f951",
   "metadata": {},
   "outputs": [
    {
     "data": {
      "text/plain": [
       "[0.6762652615677212,\n",
       " 0.2832203809255418,\n",
       " 0.1683403230146041,\n",
       " 0.11490731566254908,\n",
       " 0.08462243039630835,\n",
       " 0.06543643227274742,\n",
       " 0.05237217326481414,\n",
       " 0.04301094591596666,\n",
       " 0.036042004936120975,\n",
       " 0.03069700671431974]"
      ]
     },
     "execution_count": 25,
     "metadata": {},
     "output_type": "execute_result"
    }
   ],
   "source": [
    "valoresaprox = [formula(f=lambda z:(z**2+40)/(z+(5*z)**(1/2)+7), a=i, h=10**-3) for i in range(1,11)]\n",
    "valoresaprox"
   ]
  },
  {
   "cell_type": "code",
   "execution_count": 26,
   "id": "f2c14808",
   "metadata": {},
   "outputs": [
    {
     "data": {
      "text/plain": [
       "[0.676265098285376,\n",
       " 0.283220364176106,\n",
       " 0.168340319928121,\n",
       " 0.114907312895053,\n",
       " 0.0846224302869937,\n",
       " 0.0654364313639429,\n",
       " 0.0523721743690358,\n",
       " 0.0430109449028751,\n",
       " 0.0360420057237485,\n",
       " 0.0306970066620211]"
      ]
     },
     "execution_count": 26,
     "metadata": {},
     "output_type": "execute_result"
    }
   ],
   "source": [
    "valoresexactos = [sp.diff(f(z),z,2).subs({z:i}) for i in range(1,11)]\n",
    "valoresexactos"
   ]
  },
  {
   "cell_type": "code",
   "execution_count": 27,
   "id": "36ba6d90",
   "metadata": {},
   "outputs": [],
   "source": [
    "errores = [abs(val_aprox - val_exact) for (val_aprox, val_exact) in zip(valoresaprox, valoresexactos)]"
   ]
  },
  {
   "cell_type": "code",
   "execution_count": 28,
   "id": "974333fd",
   "metadata": {},
   "outputs": [
    {
     "name": "stdout",
     "output_type": "stream",
     "text": [
      "Diferencia entre el valor aproximado mediante la fórmula empleada y el valor exacto \n",
      "1.63282345311266e-7\n",
      "1.67494356717590e-8\n",
      "3.08648318014804e-9\n",
      "2.76749589911418e-9\n",
      "1.09314654550552e-10\n"
     ]
    }
   ],
   "source": [
    "print(\"Diferencia entre el valor aproximado mediante la fórmula empleada y el valor exacto \")\n",
    "for i in range(1,6):\n",
    "    print(errores[i-1])"
   ]
  },
  {
   "cell_type": "markdown",
   "id": "ee5e7c3a",
   "metadata": {},
   "source": [
    "4.- Divida el intervalo $[1,2]$ en 100 partes iguales y aplique las fórmulas del rectángulo, Simpson y trapecio compuestas para aproximar la integral en dicho intervalo de $f_1$. Compare dichos resultados."
   ]
  },
  {
   "cell_type": "code",
   "execution_count": 29,
   "id": "509f1397",
   "metadata": {},
   "outputs": [],
   "source": [
    "def f1(z):\n",
    "    return z**z\n",
    "f= f1"
   ]
  },
  {
   "cell_type": "code",
   "execution_count": 30,
   "id": "c5d0d032",
   "metadata": {},
   "outputs": [],
   "source": [
    "a=1; b=2; nx=100"
   ]
  },
  {
   "cell_type": "code",
   "execution_count": 31,
   "id": "904f4fb7",
   "metadata": {},
   "outputs": [],
   "source": [
    "def formula_rectangulo_izq(f,a,b,nx):\n",
    "    h = (b-a)/nx\n",
    "    return h*sum([f(a+i*h) for i in range(0,nx)])"
   ]
  },
  {
   "cell_type": "code",
   "execution_count": 32,
   "id": "455e98c2",
   "metadata": {},
   "outputs": [],
   "source": [
    "def formula_rectangulo_drch(f,a,b,nx):\n",
    "    h = (b-a)/nx\n",
    "    return h*sum([f(a+(i+1)*h) for i in range(0,nx)])"
   ]
  },
  {
   "cell_type": "code",
   "execution_count": 33,
   "id": "89a94963",
   "metadata": {},
   "outputs": [],
   "source": [
    "def formula_rectangulo_puntomedio(f,a,b,nx):\n",
    "    h = (b-a)/nx\n",
    "    return h*sum([f(a+(i+1/2)*h) for i in range(0,nx)])"
   ]
  },
  {
   "cell_type": "code",
   "execution_count": 34,
   "id": "ac753653",
   "metadata": {},
   "outputs": [],
   "source": [
    "def formula_simpson(f,a,b,m):\n",
    "    h= (b-a)/(2*m)\n",
    "    P = sum([f(a+2*i*h) for i in range(1,m)])\n",
    "    I = sum([f(a+(2*i-1)*h) for i in range(1,m+1)])\n",
    "    E = f(a)+f(b)\n",
    "    return h/3*(E+2*P+4*I)"
   ]
  },
  {
   "cell_type": "code",
   "execution_count": 35,
   "id": "5c9aa3b1",
   "metadata": {},
   "outputs": [],
   "source": [
    "def formula_trapecio(f,a,b,nx):\n",
    "    h = (b-a)/nx\n",
    "    return h/2*(f(a)+2*sum([f(a+i*h) for i in range(1,nx)])+f(b))"
   ]
  },
  {
   "cell_type": "markdown",
   "id": "6f85f288",
   "metadata": {},
   "source": [
    "Tenemos que calcular el valor exacto de la integral:\n",
    "    "
   ]
  },
  {
   "cell_type": "code",
   "execution_count": 36,
   "id": "cad627b0",
   "metadata": {},
   "outputs": [
    {
     "data": {
      "text/plain": [
       "(2.050446234534731, 2.2764526203364124e-14)"
      ]
     },
     "execution_count": 36,
     "metadata": {},
     "output_type": "execute_result"
    }
   ],
   "source": [
    "from scipy.integrate import quad\n",
    "valorexacto, abserr = quad(f, a, b)\n",
    "valorexacto, abserr"
   ]
  },
  {
   "cell_type": "markdown",
   "id": "0ec166ea",
   "metadata": {},
   "source": [
    "El primer elemento del cálculo anterior es el valor exacto y el segundo el error que se comete en el cálculo ya que no se puede calcular exactamente dicho valor, pero scipy nos da la aproximación más cercana que podemos conseguir.\n",
    "A continuación calculamos el error cometido en cada función."
   ]
  },
  {
   "cell_type": "code",
   "execution_count": 37,
   "id": "19fbf132",
   "metadata": {},
   "outputs": [
    {
     "data": {
      "text/plain": [
       "[2.0354943390855573,\n",
       " 2.065494339085557,\n",
       " 2.050422182392515,\n",
       " 2.0504462346235295,\n",
       " 2.0504943390855574]"
      ]
     },
     "execution_count": 37,
     "metadata": {},
     "output_type": "execute_result"
    }
   ],
   "source": [
    "valoresaprox=[formula_rectangulo_izq(f,a,b,nx), formula_rectangulo_drch(f,a,b,nx),formula_rectangulo_puntomedio(f,a,b,nx) ,formula_simpson(f,a,b,nx),formula_trapecio(f,a,b,nx)]\n",
    "valoresaprox\n"
   ]
  },
  {
   "cell_type": "code",
   "execution_count": 38,
   "id": "c8eaba38",
   "metadata": {},
   "outputs": [],
   "source": [
    "errores = [abs(valoresaprox - valorexacto) for valoresaprox in valoresaprox]"
   ]
  },
  {
   "cell_type": "code",
   "execution_count": 39,
   "id": "985c0793",
   "metadata": {},
   "outputs": [
    {
     "name": "stdout",
     "output_type": "stream",
     "text": [
      "Formula Rectángulo por la izquierda:\n",
      "Valor aproximado:     2.0354943390855573\n",
      "Error cometido:       0.014951895449173858\n"
     ]
    }
   ],
   "source": [
    "print(\"Formula Rectángulo por la izquierda:\")\n",
    "print(\"Valor aproximado:    \", valoresaprox[0])\n",
    "print(\"Error cometido:      \", errores[0])\n"
   ]
  },
  {
   "cell_type": "code",
   "execution_count": 40,
   "id": "91dce3c1",
   "metadata": {},
   "outputs": [
    {
     "name": "stdout",
     "output_type": "stream",
     "text": [
      "Formula Rectángulo por la derecha:\n",
      "Valor aproximado:     2.065494339085557\n",
      "Error cometido:       0.015048104550825947\n"
     ]
    }
   ],
   "source": [
    "print(\"Formula Rectángulo por la derecha:\")\n",
    "print(\"Valor aproximado:    \", valoresaprox[1])\n",
    "print(\"Error cometido:      \", errores[1])"
   ]
  },
  {
   "cell_type": "code",
   "execution_count": 41,
   "id": "66e62011",
   "metadata": {},
   "outputs": [
    {
     "name": "stdout",
     "output_type": "stream",
     "text": [
      "Formula Rectángulo punto medio:\n",
      "Valor aproximado:     2.050422182392515\n",
      "Error cometido:       2.4052142216124395e-05\n"
     ]
    }
   ],
   "source": [
    "print(\"Formula Rectángulo punto medio:\")\n",
    "print(\"Valor aproximado:    \", valoresaprox[2])\n",
    "print(\"Error cometido:      \", errores[2])"
   ]
  },
  {
   "cell_type": "code",
   "execution_count": 42,
   "id": "5d4923e4",
   "metadata": {},
   "outputs": [
    {
     "name": "stdout",
     "output_type": "stream",
     "text": [
      "Formula Rectángulo Simpson :\n",
      "Valor aproximado:     2.0504462346235295\n",
      "Error cometido:       8.879830204477912e-11\n"
     ]
    }
   ],
   "source": [
    "print(\"Formula Rectángulo Simpson :\")\n",
    "print(\"Valor aproximado:    \", valoresaprox[3])\n",
    "print(\"Error cometido:      \", errores[3])"
   ]
  },
  {
   "cell_type": "code",
   "execution_count": 43,
   "id": "0ea51077",
   "metadata": {},
   "outputs": [
    {
     "name": "stdout",
     "output_type": "stream",
     "text": [
      "Formula Rectángulo Trapecio :\n",
      "Valor aproximado:     2.0504943390855574\n",
      "Error cometido:       4.8104550826266745e-05\n"
     ]
    }
   ],
   "source": [
    "print(\"Formula Rectángulo Trapecio :\")\n",
    "print(\"Valor aproximado:    \", valoresaprox[4])\n",
    "print(\"Error cometido:      \", errores[4])"
   ]
  },
  {
   "cell_type": "markdown",
   "id": "d4668fca",
   "metadata": {},
   "source": [
    "5.- Repita el ejercicio 4 para $f_2$. "
   ]
  },
  {
   "cell_type": "markdown",
   "id": "1d674e10",
   "metadata": {},
   "source": [
    "Utilizaremos las funciones y las variables declaradas en el ejercicio anterior"
   ]
  },
  {
   "cell_type": "code",
   "execution_count": 44,
   "id": "b019fa29",
   "metadata": {},
   "outputs": [],
   "source": [
    "def f2(z):\n",
    "    return (z**2+40)/(z+(5*z)**(1/2)+7)\n",
    "f = f2"
   ]
  },
  {
   "cell_type": "code",
   "execution_count": 45,
   "id": "1329bbdf",
   "metadata": {},
   "outputs": [
    {
     "data": {
      "text/plain": [
       "(3.77658111776791, 4.192847311310543e-14)"
      ]
     },
     "execution_count": 45,
     "metadata": {},
     "output_type": "execute_result"
    }
   ],
   "source": [
    "from scipy.integrate import quad\n",
    "valorexacto, abserr = quad(f, a, b)\n",
    "valorexacto, abserr"
   ]
  },
  {
   "cell_type": "code",
   "execution_count": 46,
   "id": "068bce60",
   "metadata": {},
   "outputs": [
    {
     "data": {
      "text/plain": [
       "[3.778523202782093,\n",
       " 3.774646194132547,\n",
       " 3.7765793274267083,\n",
       " 3.7765811177702457,\n",
       " 3.77658469845732]"
      ]
     },
     "execution_count": 46,
     "metadata": {},
     "output_type": "execute_result"
    }
   ],
   "source": [
    "valoresaprox=[formula_rectangulo_izq(f,a,b,nx), formula_rectangulo_drch(f,a,b,nx),formula_rectangulo_puntomedio(f,a,b,nx) ,formula_simpson(f,a,b,nx),formula_trapecio(f,a,b,nx)]\n",
    "valoresaprox"
   ]
  },
  {
   "cell_type": "code",
   "execution_count": 47,
   "id": "59c9bb09",
   "metadata": {},
   "outputs": [],
   "source": [
    "errores = [abs(valoresaprox - valorexacto) for valoresaprox in valoresaprox]"
   ]
  },
  {
   "cell_type": "code",
   "execution_count": 48,
   "id": "79d209d0",
   "metadata": {},
   "outputs": [
    {
     "name": "stdout",
     "output_type": "stream",
     "text": [
      "Formula Rectángulo por la izquierda:\n",
      "Valor aproximado:     3.778523202782093\n",
      "Error cometido:       0.001942085014183359\n"
     ]
    }
   ],
   "source": [
    "print(\"Formula Rectángulo por la izquierda:\")\n",
    "print(\"Valor aproximado:    \", valoresaprox[0])\n",
    "print(\"Error cometido:      \", errores[0])\n"
   ]
  },
  {
   "cell_type": "code",
   "execution_count": 49,
   "id": "65405fe5",
   "metadata": {},
   "outputs": [
    {
     "name": "stdout",
     "output_type": "stream",
     "text": [
      "Formula Rectángulo por la derecha:\n",
      "Valor aproximado:     3.774646194132547\n",
      "Error cometido:       0.0019349236353627397\n"
     ]
    }
   ],
   "source": [
    "print(\"Formula Rectángulo por la derecha:\")\n",
    "print(\"Valor aproximado:    \", valoresaprox[1])\n",
    "print(\"Error cometido:      \", errores[1])"
   ]
  },
  {
   "cell_type": "code",
   "execution_count": 50,
   "id": "5b2fd452",
   "metadata": {},
   "outputs": [
    {
     "name": "stdout",
     "output_type": "stream",
     "text": [
      "Formula Rectángulo punto medio:\n",
      "Valor aproximado:     3.7765793274267083\n",
      "Error cometido:       1.7903412015130016e-06\n"
     ]
    }
   ],
   "source": [
    "print(\"Formula Rectángulo punto medio:\")\n",
    "print(\"Valor aproximado:    \", valoresaprox[2])\n",
    "print(\"Error cometido:      \", errores[2])"
   ]
  },
  {
   "cell_type": "code",
   "execution_count": 51,
   "id": "bcf28d20",
   "metadata": {},
   "outputs": [
    {
     "name": "stdout",
     "output_type": "stream",
     "text": [
      "Formula Rectángulo Simpson :\n",
      "Valor aproximado:     3.7765811177702457\n",
      "Error cometido:       2.3359092438113294e-12\n"
     ]
    }
   ],
   "source": [
    "print(\"Formula Rectángulo Simpson :\")\n",
    "print(\"Valor aproximado:    \", valoresaprox[3])\n",
    "print(\"Error cometido:      \", errores[3])"
   ]
  },
  {
   "cell_type": "code",
   "execution_count": 52,
   "id": "ece7532e",
   "metadata": {},
   "outputs": [
    {
     "name": "stdout",
     "output_type": "stream",
     "text": [
      "Formula Rectángulo Trapecio :\n",
      "Valor aproximado:     3.77658469845732\n",
      "Error cometido:       3.5806894103096454e-06\n"
     ]
    }
   ],
   "source": [
    "print(\"Formula Rectángulo Trapecio :\")\n",
    "print(\"Valor aproximado:    \", valoresaprox[4])\n",
    "print(\"Error cometido:      \", errores[4])"
   ]
  },
  {
   "cell_type": "markdown",
   "id": "5862e399",
   "metadata": {},
   "source": [
    "6.- Sea $f_3(x)=x^{15} e^x$ en $[0,2]$. Vamos a dividir el intervalo en $10\\times 2^n$ subintervalos, es decir, $10,\\,20,\\,40,\\, 80,\\ldots $ y a aplicar la fórmula de Simpson compuesta hasta que la diferencia entre dos aproximaciones consecutivas (por ejemplo, podrían\n",
    "ser con $20$ y $40$ subintervalos) sea menor que $10^{-2}$, dando en tal caso por buena la última aproximación obtenida. Programe\n",
    "y calcule dicha aproximación. Compare ambas aproximaciones con\n",
    "el valor exacto."
   ]
  },
  {
   "cell_type": "code",
   "execution_count": 53,
   "id": "59bb912d",
   "metadata": {},
   "outputs": [],
   "source": [
    "def f3(z):\n",
    "    return z**15*np.exp(z)\n",
    "f = f3"
   ]
  },
  {
   "cell_type": "code",
   "execution_count": 54,
   "id": "8d7b331e",
   "metadata": {},
   "outputs": [],
   "source": [
    "a = 0; b= 2"
   ]
  },
  {
   "cell_type": "code",
   "execution_count": 55,
   "id": "8102e05b",
   "metadata": {},
   "outputs": [],
   "source": [
    "def ejercicio6(f,a,b,n):\n",
    "    diferencia = 1\n",
    "    while(diferencia >= 10**-2):\n",
    "        aprox1 = formula_simpson(f,a,b,n)\n",
    "        n = n*2\n",
    "        aprox2 = formula_simpson(f,a,b,n)\n",
    "        diferencia = abs(aprox1-aprox2)\n",
    "        \n",
    "    print(\"Número de subintervalos necesarios: \", n )\n",
    "    print(\"Aproximación: \", aprox2)\n",
    "    \n",
    "    "
   ]
  },
  {
   "cell_type": "code",
   "execution_count": 56,
   "id": "5bda1b65",
   "metadata": {},
   "outputs": [
    {
     "name": "stdout",
     "output_type": "stream",
     "text": [
      "Número de subintervalos necesarios:  320\n",
      "Aproximación:  27062.702480891214\n"
     ]
    }
   ],
   "source": [
    "ejercicio6(f,a,b,10)"
   ]
  },
  {
   "cell_type": "code",
   "execution_count": 57,
   "id": "b5780ac8",
   "metadata": {},
   "outputs": [
    {
     "data": {
      "text/latex": [
       "$\\displaystyle 27062.7024138996$"
      ],
      "text/plain": [
       "27062.7024138996"
      ]
     },
     "execution_count": 57,
     "metadata": {},
     "output_type": "execute_result"
    }
   ],
   "source": [
    "valor_exacto = sp.integrate(z**15*sp.exp(z), [z,a,b])\n",
    "valor_exacto.evalf()"
   ]
  },
  {
   "cell_type": "code",
   "execution_count": 58,
   "id": "24d9627f",
   "metadata": {},
   "outputs": [
    {
     "data": {
      "text/plain": [
       "[27062.702480891214, 27062.70348558277]"
      ]
     },
     "execution_count": 58,
     "metadata": {},
     "output_type": "execute_result"
    }
   ],
   "source": [
    "aprox=[formula_simpson(f,a,b,320),formula_simpson(f,a,b,160)]\n",
    "aprox"
   ]
  },
  {
   "cell_type": "code",
   "execution_count": 59,
   "id": "024b0a5f",
   "metadata": {},
   "outputs": [
    {
     "data": {
      "text/plain": [
       "[6.69916116748936e-5, 0.00107168316753814]"
      ]
     },
     "execution_count": 59,
     "metadata": {},
     "output_type": "execute_result"
    }
   ],
   "source": [
    "errores=[abs(valor_exacto.evalf()-aprox[0]), abs(valor_exacto.evalf()-aprox[1])]\n",
    "errores\n"
   ]
  },
  {
   "cell_type": "code",
   "execution_count": 60,
   "id": "4f114fe0",
   "metadata": {},
   "outputs": [
    {
     "name": "stdout",
     "output_type": "stream",
     "text": [
      "Aproximacion1:     27062.70348558277\n",
      "Número subintervalos:  160\n",
      "Error cometido:       0.00107168316753814\n"
     ]
    }
   ],
   "source": [
    "print(\"Aproximacion1:    \", aprox[1])\n",
    "print(\"Número subintervalos: \", 160)\n",
    "print(\"Error cometido:      \", errores[1])"
   ]
  },
  {
   "cell_type": "code",
   "execution_count": 61,
   "id": "796fed60",
   "metadata": {},
   "outputs": [
    {
     "name": "stdout",
     "output_type": "stream",
     "text": [
      "Aproximacion1:     27062.702480891214\n",
      "Número subintervalos:  320\n",
      "Error cometido:       6.69916116748936e-5\n"
     ]
    }
   ],
   "source": [
    "print(\"Aproximacion1:    \", aprox[0])\n",
    "print(\"Número subintervalos: \", 320)\n",
    "print(\"Error cometido:      \", errores[0])"
   ]
  }
 ],
 "metadata": {
  "kernelspec": {
   "display_name": "Python 3 (ipykernel)",
   "language": "python",
   "name": "python3"
  },
  "language_info": {
   "codemirror_mode": {
    "name": "ipython",
    "version": 3
   },
   "file_extension": ".py",
   "mimetype": "text/x-python",
   "name": "python",
   "nbconvert_exporter": "python",
   "pygments_lexer": "ipython3",
   "version": "3.9.7"
  }
 },
 "nbformat": 4,
 "nbformat_minor": 5
}
