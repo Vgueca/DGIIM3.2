{
 "cells": [
  {
   "cell_type": "markdown",
   "id": "30b5bc6b",
   "metadata": {},
   "source": [
    "1.- Demuestre que la ecuación  $x^3+4 x^2=10  $  tiene una única raíz en el intervalo $[1,2]$.  Aproxime dicha raíz con el método de bisección con al menos 3 cifras decimales exactas. ¿Cuántas iteraciones serán necesarias para conseguir 5 cifras decimales exactas (tol =$10^{-5}$)?  Aproxime también la raíz con el método de Newton-Raphson partiendo del extremo adecuado hasta que la diferencia en valor absoluto, entre dos aproximaciones consecutivas sea  inferior a  $10^{-3}$."
   ]
  },
  {
   "cell_type": "code",
   "execution_count": 1,
   "id": "e8354375",
   "metadata": {},
   "outputs": [],
   "source": [
    "import numpy as np \n",
    "%matplotlib inline\n",
    "import matplotlib.pyplot as plt\n",
    "import sympy as sp\n"
   ]
  },
  {
   "cell_type": "code",
   "execution_count": 2,
   "id": "8d297978",
   "metadata": {},
   "outputs": [
    {
     "data": {
      "text/plain": [
       "Context(prec=28, rounding=ROUND_HALF_EVEN, Emin=-999999, Emax=999999, capitals=1, clamp=0, flags=[], traps=[InvalidOperation, DivisionByZero, Overflow])"
      ]
     },
     "execution_count": 2,
     "metadata": {},
     "output_type": "execute_result"
    }
   ],
   "source": [
    "from numpy import sign \n",
    "from decimal import *\n",
    "getcontext()"
   ]
  },
  {
   "cell_type": "code",
   "execution_count": 3,
   "id": "5c95cc18",
   "metadata": {},
   "outputs": [
    {
     "data": {
      "text/plain": [
       "28"
      ]
     },
     "execution_count": 3,
     "metadata": {},
     "output_type": "execute_result"
    }
   ],
   "source": [
    "mporig = getcontext().prec\n",
    "mporig"
   ]
  },
  {
   "cell_type": "code",
   "execution_count": 4,
   "id": "3e61550b",
   "metadata": {},
   "outputs": [],
   "source": [
    "a = 1.; b=2.;"
   ]
  },
  {
   "cell_type": "code",
   "execution_count": 5,
   "id": "c4fcd267",
   "metadata": {},
   "outputs": [],
   "source": [
    "def fnum(x):\n",
    "    return (x**3)+(4*x**2)-10"
   ]
  },
  {
   "cell_type": "code",
   "execution_count": 6,
   "id": "820c4f75",
   "metadata": {},
   "outputs": [],
   "source": [
    "def fsym(x):\n",
    "    return (x**3)+(4*x**2)-10"
   ]
  },
  {
   "cell_type": "code",
   "execution_count": 7,
   "id": "e853a7ad",
   "metadata": {},
   "outputs": [],
   "source": [
    "nxx = 100;\n",
    "xx = np.linspace(a,b,nxx)\n",
    "yy = fnum(xx)"
   ]
  },
  {
   "cell_type": "code",
   "execution_count": 8,
   "id": "30006ffa",
   "metadata": {},
   "outputs": [
    {
     "data": {
      "text/plain": [
       "array([1.        , 1.01010101, 1.02020202, 1.03030303, 1.04040404,\n",
       "       1.05050505, 1.06060606, 1.07070707, 1.08080808, 1.09090909,\n",
       "       1.1010101 , 1.11111111, 1.12121212, 1.13131313, 1.14141414,\n",
       "       1.15151515, 1.16161616, 1.17171717, 1.18181818, 1.19191919,\n",
       "       1.2020202 , 1.21212121, 1.22222222, 1.23232323, 1.24242424,\n",
       "       1.25252525, 1.26262626, 1.27272727, 1.28282828, 1.29292929,\n",
       "       1.3030303 , 1.31313131, 1.32323232, 1.33333333, 1.34343434,\n",
       "       1.35353535, 1.36363636, 1.37373737, 1.38383838, 1.39393939,\n",
       "       1.4040404 , 1.41414141, 1.42424242, 1.43434343, 1.44444444,\n",
       "       1.45454545, 1.46464646, 1.47474747, 1.48484848, 1.49494949,\n",
       "       1.50505051, 1.51515152, 1.52525253, 1.53535354, 1.54545455,\n",
       "       1.55555556, 1.56565657, 1.57575758, 1.58585859, 1.5959596 ,\n",
       "       1.60606061, 1.61616162, 1.62626263, 1.63636364, 1.64646465,\n",
       "       1.65656566, 1.66666667, 1.67676768, 1.68686869, 1.6969697 ,\n",
       "       1.70707071, 1.71717172, 1.72727273, 1.73737374, 1.74747475,\n",
       "       1.75757576, 1.76767677, 1.77777778, 1.78787879, 1.7979798 ,\n",
       "       1.80808081, 1.81818182, 1.82828283, 1.83838384, 1.84848485,\n",
       "       1.85858586, 1.86868687, 1.87878788, 1.88888889, 1.8989899 ,\n",
       "       1.90909091, 1.91919192, 1.92929293, 1.93939394, 1.94949495,\n",
       "       1.95959596, 1.96969697, 1.97979798, 1.98989899, 2.        ])"
      ]
     },
     "execution_count": 8,
     "metadata": {},
     "output_type": "execute_result"
    }
   ],
   "source": [
    "xx"
   ]
  },
  {
   "cell_type": "code",
   "execution_count": 9,
   "id": "09684706",
   "metadata": {},
   "outputs": [
    {
     "data": {
      "text/plain": [
       "array([-5.        , -4.88817365, -4.77491268, -4.66021092, -4.54406219,\n",
       "       -4.4264603 , -4.30739906, -4.18687229, -4.06487382, -3.94139745,\n",
       "       -3.816437  , -3.68998628, -3.56203912, -3.43258934, -3.30163073,\n",
       "       -3.16915714, -3.03516236, -2.89964021, -2.76258452, -2.6239891 ,\n",
       "       -2.48384776, -2.34215433, -2.19890261, -2.05408642, -1.90769959,\n",
       "       -1.75973592, -1.61018923, -1.45905334, -1.30632207, -1.15198923,\n",
       "       -0.99604864, -0.83849411, -0.67931947, -0.51851852, -0.35608508,\n",
       "       -0.19201298, -0.02629602,  0.14107198,  0.3100972 ,  0.48078582,\n",
       "        0.65314403,  0.82717801,  1.00289395,  1.18029803,  1.35939643,\n",
       "        1.54019534,  1.72270094,  1.90691941,  2.09285694,  2.28051972,\n",
       "        2.46991391,  2.66104572,  2.85392132,  3.04854689,  3.24492863,\n",
       "        3.4430727 ,  3.64298531,  3.84467262,  4.04814083,  4.25339612,\n",
       "        4.46044467,  4.66929266,  4.87994628,  5.09241172,  5.30669515,\n",
       "        5.52280276,  5.74074074,  5.96051526,  6.18213252,  6.40559869,\n",
       "        6.63091995,  6.8581025 ,  7.08715252,  7.31807618,  7.55087968,\n",
       "        7.78556919,  8.0221509 ,  8.260631  ,  8.50101567,  8.74331108,\n",
       "        8.98752343,  9.2336589 ,  9.48172367,  9.73172393,  9.98366586,\n",
       "       10.23755564, 10.49339946, 10.7512035 , 11.01097394, 11.27271697,\n",
       "       11.53643877, 11.80214552, 12.06984342, 12.33953864, 12.61123736,\n",
       "       12.88494577, 13.16067006, 13.43841641, 13.71819099, 14.        ])"
      ]
     },
     "execution_count": 9,
     "metadata": {},
     "output_type": "execute_result"
    }
   ],
   "source": [
    "yy"
   ]
  },
  {
   "cell_type": "code",
   "execution_count": 10,
   "id": "0de69865",
   "metadata": {},
   "outputs": [
    {
     "data": {
      "image/png": "[encoded data removed]",
      "text/plain": [
       "<Figure size 432x288 with 1 Axes>"
      ]
     },
     "metadata": {
      "needs_background": "light"
     },
     "output_type": "display_data"
    }
   ],
   "source": [
    "fig, ax = plt.subplots()  # de esta forma generamos una instancia\n",
    "# de la clase figura, con sus correspondientes ejes \n",
    "# y con posibilidad de incluir varios gráficos en ella\n",
    "\n",
    "# estas opciones evitan que se dibujen\n",
    "ax.spines['right'].set_color('none')   # tanto el borde derecho\n",
    "ax.spines['top'].set_color('none') # como el superior del gráfico\n",
    " \n",
    "# mientras que las opciones siguientes sirven\n",
    "ax.xaxis.set_ticks_position('bottom')\n",
    "# para fijar la posición de las marcas en la parte inferior \n",
    "ax.spines['bottom'].set_position(('data',0)) \n",
    "# y situar el eje Ox en la recta horizontal y=0\n",
    "\n",
    "# y estas para fijar la posición de las marcas \n",
    "ax.yaxis.set_ticks_position('left')  # a la izquierda del eje Oy\n",
    "ax.spines['left'].set_position(('data',0))   \n",
    "# y situar éste en la recta vertical x=0\n",
    "\n",
    "# ahora es cuando generamos el gráfico en sí\n",
    "ax.plot(xx, yy); # como una instancia de la clase ejes"
   ]
  },
  {
   "cell_type": "code",
   "execution_count": 11,
   "id": "f2c799aa",
   "metadata": {},
   "outputs": [],
   "source": [
    "x= sp.Symbol('x')"
   ]
  },
  {
   "cell_type": "code",
   "execution_count": 12,
   "id": "d541cc1b",
   "metadata": {},
   "outputs": [],
   "source": [
    "def fsym(x):\n",
    "    return (x**3)+(4*x**2)-10"
   ]
  },
  {
   "cell_type": "code",
   "execution_count": 13,
   "id": "20a4f8e5",
   "metadata": {},
   "outputs": [],
   "source": [
    "def f(x):\n",
    "    return fsym(x)"
   ]
  },
  {
   "cell_type": "code",
   "execution_count": 14,
   "id": "d3df8d73",
   "metadata": {
    "scrolled": true
   },
   "outputs": [
    {
     "data": {
      "image/png": "[encoded data removed]",
      "text/plain": [
       "<Figure size 432x288 with 1 Axes>"
      ]
     },
     "metadata": {
      "needs_background": "light"
     },
     "output_type": "display_data"
    },
    {
     "data": {
      "text/plain": [
       "<sympy.plotting.plot.Plot at 0x20b54c23220>"
      ]
     },
     "execution_count": 14,
     "metadata": {},
     "output_type": "execute_result"
    }
   ],
   "source": [
    "sp.plot(f(x),(x,a,b))"
   ]
  },
  {
   "cell_type": "markdown",
   "id": "c8cbdcdf",
   "metadata": {},
   "source": [
    "Claramente la función en el intervalo en cuestión solo tiene una raíz.\n",
    "Además vemos com ambos extremos del intervalo en cuestión cumplen la hipótesis del teorema de Bolzano, uno tiene imagen positiva y otro negativa."
   ]
  },
  {
   "cell_type": "code",
   "execution_count": 15,
   "id": "f05ae05f",
   "metadata": {},
   "outputs": [],
   "source": [
    "a0 = a; b0 = b;"
   ]
  },
  {
   "cell_type": "code",
   "execution_count": 16,
   "id": "50fb2004",
   "metadata": {},
   "outputs": [],
   "source": [
    "mp = 3;\n",
    "getcontext().prec = mp"
   ]
  },
  {
   "cell_type": "code",
   "execution_count": 17,
   "id": "7c91e175",
   "metadata": {},
   "outputs": [
    {
     "data": {
      "text/plain": [
       "0.001"
      ]
     },
     "execution_count": 17,
     "metadata": {},
     "output_type": "execute_result"
    }
   ],
   "source": [
    "prec = 10**(-mp)\n",
    "prec"
   ]
  },
  {
   "cell_type": "code",
   "execution_count": 18,
   "id": "d6d812e3",
   "metadata": {},
   "outputs": [
    {
     "data": {
      "text/plain": [
       "Context(prec=3, rounding=ROUND_HALF_EVEN, Emin=-999999, Emax=999999, capitals=1, clamp=0, flags=[], traps=[InvalidOperation, DivisionByZero, Overflow])"
      ]
     },
     "execution_count": 18,
     "metadata": {},
     "output_type": "execute_result"
    }
   ],
   "source": [
    "cifras = 3  # Número de cifras con el que queremos calcular \n",
    "getcontext().prec = cifras # y presentar los resultados\n",
    "getcontext()"
   ]
  },
  {
   "cell_type": "code",
   "execution_count": 19,
   "id": "f5925d5b",
   "metadata": {
    "scrolled": true
   },
   "outputs": [
    {
     "data": {
      "text/plain": [
       "0.001"
      ]
     },
     "execution_count": 19,
     "metadata": {},
     "output_type": "execute_result"
    }
   ],
   "source": [
    "tol = 10**(-cifras)\n",
    "tol"
   ]
  },
  {
   "cell_type": "code",
   "execution_count": 20,
   "id": "46b0ed94",
   "metadata": {},
   "outputs": [],
   "source": [
    "nmax = 100"
   ]
  },
  {
   "cell_type": "code",
   "execution_count": 21,
   "id": "ddc5320d",
   "metadata": {},
   "outputs": [],
   "source": [
    "def biseccion(f, a,b, tol=10*-1, maxiteraciones = 100, cifras = 5):\n",
    "    # Ahora con la precisión asociada al nº de cifras solicitadas\n",
    "    niter = 0; sale =''\n",
    "    getcontext().prec = cifras\n",
    "    for k in range(maxiteraciones):\n",
    "        niter = niter + 1;\n",
    "        c = a + (b-a)/2 # equivalente a c = (a+b)/2\n",
    "        if abs(f(c)) < prec:\n",
    "            sale = 'precision'\n",
    "            break\n",
    "        if sign(f(a)) != sign(f(c)):\n",
    "            b = c\n",
    "        else:\n",
    "            a = c\n",
    "        if b-a < tol:\n",
    "            sale = 'tolerancia'\n",
    "            break\n",
    "\n",
    "    if sale == 'precision':\n",
    "        print('Posiblemente solución exacta: ',Decimal(c))\n",
    "    elif niter < nmax:\n",
    "        print('Aproximación solicitada: ',c)\n",
    "    else:\n",
    "        print('Se llegó al número máximo de iteraciones')\n",
    "    print('Solución exacta con ', cifras, ' cifras significativas', round(c, cifras))\n",
    "    print('Número total de iteraciones ', niter)\n",
    "    resultado = c\n",
    "    "
   ]
  },
  {
   "cell_type": "code",
   "execution_count": 22,
   "id": "f4841d30",
   "metadata": {},
   "outputs": [
    {
     "name": "stdout",
     "output_type": "stream",
     "text": [
      "Posiblemente solución exacta:  1.365234375\n",
      "Solución exacta con  5  cifras significativas 1.36523\n",
      "Número total de iteraciones  9\n"
     ]
    }
   ],
   "source": [
    "biseccion(f,a,b,tol)"
   ]
  },
  {
   "cell_type": "code",
   "execution_count": 23,
   "id": "99c8bd0c",
   "metadata": {},
   "outputs": [],
   "source": [
    "#Definimos el método Newton-Raphson"
   ]
  },
  {
   "cell_type": "code",
   "execution_count": 24,
   "id": "4f81749f",
   "metadata": {},
   "outputs": [],
   "source": [
    "def f(x):\n",
    "    ''' Versión simbólica de la función '''\n",
    "    return fsym(x)    "
   ]
  },
  {
   "cell_type": "code",
   "execution_count": 25,
   "id": "1ed50fd4",
   "metadata": {},
   "outputs": [
    {
     "data": {
      "text/plain": [
       "(x**3 + 4*x**2 - 10, 3*x**2 + 8*x)"
      ]
     },
     "execution_count": 25,
     "metadata": {},
     "output_type": "execute_result"
    }
   ],
   "source": [
    "f(x),sp.diff(f(x),x)"
   ]
  },
  {
   "cell_type": "code",
   "execution_count": 26,
   "id": "f6f7d03c",
   "metadata": {},
   "outputs": [],
   "source": [
    "def df(x):\n",
    "    return (3*x**2)+(8*x)"
   ]
  },
  {
   "cell_type": "code",
   "execution_count": 27,
   "id": "1018864e",
   "metadata": {},
   "outputs": [],
   "source": [
    "a = 1\n",
    "b = 2"
   ]
  },
  {
   "cell_type": "code",
   "execution_count": 28,
   "id": "c9983074",
   "metadata": {},
   "outputs": [
    {
     "data": {
      "text/plain": [
       "(-5, 11)"
      ]
     },
     "execution_count": 28,
     "metadata": {},
     "output_type": "execute_result"
    }
   ],
   "source": [
    "f(a),df(a)"
   ]
  },
  {
   "cell_type": "code",
   "execution_count": 29,
   "id": "455a060c",
   "metadata": {},
   "outputs": [],
   "source": [
    "x0 = a"
   ]
  },
  {
   "cell_type": "code",
   "execution_count": 30,
   "id": "1f3fab0a",
   "metadata": {},
   "outputs": [
    {
     "data": {
      "text/plain": [
       "(-5, 11)"
      ]
     },
     "execution_count": 30,
     "metadata": {},
     "output_type": "execute_result"
    }
   ],
   "source": [
    "f(x0), df(x0)"
   ]
  },
  {
   "cell_type": "code",
   "execution_count": 31,
   "id": "cc7a8a87",
   "metadata": {},
   "outputs": [
    {
     "data": {
      "text/plain": [
       "1"
      ]
     },
     "execution_count": 31,
     "metadata": {},
     "output_type": "execute_result"
    }
   ],
   "source": [
    "x0"
   ]
  },
  {
   "cell_type": "code",
   "execution_count": 32,
   "id": "4a46a920",
   "metadata": {},
   "outputs": [
    {
     "data": {
      "text/plain": [
       "1.4545454545454546"
      ]
     },
     "execution_count": 32,
     "metadata": {},
     "output_type": "execute_result"
    }
   ],
   "source": [
    "x1 = x0 - f(x0)/df(x0)\n",
    "x1"
   ]
  },
  {
   "cell_type": "code",
   "execution_count": 33,
   "id": "809eb680",
   "metadata": {},
   "outputs": [
    {
     "data": {
      "text/plain": [
       "1.5"
      ]
     },
     "execution_count": 33,
     "metadata": {},
     "output_type": "execute_result"
    }
   ],
   "source": [
    "m=10; x1 = x0 - f(x0)/m\n",
    "x1"
   ]
  },
  {
   "cell_type": "code",
   "execution_count": 34,
   "id": "8796a598",
   "metadata": {},
   "outputs": [
    {
     "data": {
      "text/plain": [
       "False"
      ]
     },
     "execution_count": 34,
     "metadata": {},
     "output_type": "execute_result"
    }
   ],
   "source": [
    "abs(f(x1)) < prec"
   ]
  },
  {
   "cell_type": "code",
   "execution_count": 35,
   "id": "97fad083",
   "metadata": {},
   "outputs": [],
   "source": [
    "tol = 10**-3\n"
   ]
  },
  {
   "cell_type": "code",
   "execution_count": 36,
   "id": "69a4523c",
   "metadata": {},
   "outputs": [
    {
     "data": {
      "text/plain": [
       "(0.001, 0.001)"
      ]
     },
     "execution_count": 36,
     "metadata": {},
     "output_type": "execute_result"
    }
   ],
   "source": [
    "prec,tol"
   ]
  },
  {
   "cell_type": "code",
   "execution_count": 37,
   "id": "33396c52",
   "metadata": {},
   "outputs": [],
   "source": [
    "# Ahora con la precisión asociada al nº de cifras solicitadas\n",
    "def NewtonRaphson(f, df, a,b,x0, tol=10*-1, maxiteraciones = 100, cifras = 5):\n",
    "    getcontext().prec = cifras\n",
    "    niter = 0; sale =''\n",
    "    m =df(x0);  # pendiente prefijada de las rectas a emplear\n",
    "\n",
    "    for k in range(maxiteraciones):\n",
    "        niter = niter + 1;\n",
    "        x1 = x0 - f(x0)/m  # método de Whitaker\n",
    "        # Cambiar m por Decimal(df(x0)) para el de Newton-Raphson\n",
    "        m=df(x1);\n",
    "        if abs(x1-x0) < tol:\n",
    "            sale = 'tolerancia'\n",
    "            break\n",
    "        if abs(f(x1)) < prec:\n",
    "            sale = 'precision'\n",
    "            break\n",
    "        else:\n",
    "            x0 = x1\n",
    "\n",
    "    print('sale el programa por ',sale)\n",
    "    if sale == 'precision':\n",
    "        print('Posiblemente solución exacta: ',x1)\n",
    "    elif niter < nmax:\n",
    "        print('Aproximación solicitada: ', x1)\n",
    "    else:\n",
    "        print('Se llegó al número máximo de iteraciones')\n",
    "    print('Solución exacta con ', cifras, ' cifras significativas',  round(x1, cifras))\n",
    "    print('Número total de iteraciones ', niter)\n",
    "\n",
    "    getcontext().prec = mporig # Se restaura la precisión por defecto"
   ]
  },
  {
   "cell_type": "code",
   "execution_count": 38,
   "id": "aecc9901",
   "metadata": {
    "scrolled": true
   },
   "outputs": [
    {
     "name": "stdout",
     "output_type": "stream",
     "text": [
      "sale el programa por  precision\n",
      "Posiblemente solución exacta:  1.3652620148746266\n",
      "Solución exacta con  5  cifras significativas 1.36526\n",
      "Número total de iteraciones  3\n"
     ]
    }
   ],
   "source": [
    "NewtonRaphson(f,df,a,b,b,tol)"
   ]
  },
  {
   "cell_type": "markdown",
   "id": "7b60370d",
   "metadata": {},
   "source": [
    "2.- Encuentre una aproximación de la raíz cúbica de 25 con dos decimales exactos (tol = 10−2 ), usando el algoritmo de bisección."
   ]
  },
  {
   "cell_type": "code",
   "execution_count": 39,
   "id": "08eb6eeb",
   "metadata": {},
   "outputs": [],
   "source": [
    "def fsym(x):\n",
    "    return x**(3)-25"
   ]
  },
  {
   "cell_type": "code",
   "execution_count": 40,
   "id": "93e9a0e5",
   "metadata": {},
   "outputs": [],
   "source": [
    "def f(x):\n",
    "    return fsym(x)"
   ]
  },
  {
   "cell_type": "code",
   "execution_count": 41,
   "id": "8e44322b",
   "metadata": {},
   "outputs": [],
   "source": [
    "tol= 10**-2"
   ]
  },
  {
   "cell_type": "code",
   "execution_count": 42,
   "id": "c6a251c8",
   "metadata": {},
   "outputs": [
    {
     "data": {
      "text/plain": [
       "(0.001, 0.01)"
      ]
     },
     "execution_count": 42,
     "metadata": {},
     "output_type": "execute_result"
    }
   ],
   "source": [
    "prec, tol"
   ]
  },
  {
   "cell_type": "code",
   "execution_count": 43,
   "id": "1b682483",
   "metadata": {},
   "outputs": [
    {
     "name": "stdout",
     "output_type": "stream",
     "text": [
      "Aproximación solicitada:  2.9296875\n",
      "Solución exacta con  2  cifras significativas 2.93\n",
      "Número total de iteraciones  7\n"
     ]
    }
   ],
   "source": [
    "biseccion(f,2,3, tol, 100 , 2)"
   ]
  },
  {
   "cell_type": "markdown",
   "id": "884ba029",
   "metadata": {},
   "source": [
    "3.- Use el método de Newton-Raphson para aproximar las soluciones de las siguientes ecuaciones con tolerancia $10^{-5}$ , partiendo de un valor adecuado, próximo a cada una de ellas en cada caso:"
   ]
  },
  {
   "cell_type": "code",
   "execution_count": 44,
   "id": "d28ef1d8",
   "metadata": {},
   "outputs": [],
   "source": [
    "tol= 10**-5"
   ]
  },
  {
   "cell_type": "markdown",
   "id": "e07199b2",
   "metadata": {},
   "source": [
    "i) $x^3-x-1 = 0$  en $[1,2]$."
   ]
  },
  {
   "cell_type": "code",
   "execution_count": 45,
   "id": "8fde90e7",
   "metadata": {},
   "outputs": [],
   "source": [
    "def fsym(x):\n",
    "    return x**(3)-x-1"
   ]
  },
  {
   "cell_type": "code",
   "execution_count": 46,
   "id": "a0bfb2ca",
   "metadata": {},
   "outputs": [],
   "source": [
    "def f(x):\n",
    "    return fsym(x)"
   ]
  },
  {
   "cell_type": "code",
   "execution_count": 47,
   "id": "fed949c5",
   "metadata": {},
   "outputs": [],
   "source": [
    "def fnum(x):\n",
    "    return x**(3)-x-1"
   ]
  },
  {
   "cell_type": "code",
   "execution_count": 48,
   "id": "2acc10e6",
   "metadata": {},
   "outputs": [],
   "source": [
    "a= 1; b= 2"
   ]
  },
  {
   "cell_type": "code",
   "execution_count": 49,
   "id": "a52ffc25",
   "metadata": {},
   "outputs": [
    {
     "data": {
      "image/png": "[encoded data removed]",
      "text/plain": [
       "<Figure size 432x288 with 1 Axes>"
      ]
     },
     "metadata": {
      "needs_background": "light"
     },
     "output_type": "display_data"
    },
    {
     "data": {
      "text/plain": [
       "<sympy.plotting.plot.Plot at 0x20b54e2c340>"
      ]
     },
     "execution_count": 49,
     "metadata": {},
     "output_type": "execute_result"
    }
   ],
   "source": [
    "sp.plot(f(x),(x,a,b))"
   ]
  },
  {
   "cell_type": "code",
   "execution_count": 50,
   "id": "9afa3fca",
   "metadata": {},
   "outputs": [],
   "source": [
    "def df(x):\n",
    "    return (3*x**2)-1"
   ]
  },
  {
   "cell_type": "code",
   "execution_count": 52,
   "id": "1cb1ef5a",
   "metadata": {},
   "outputs": [
    {
     "name": "stdout",
     "output_type": "stream",
     "text": [
      "sale el programa por  precision\n",
      "Posiblemente solución exacta:  1.3247190494171253\n",
      "Solución exacta con  5  cifras significativas 1.32472\n",
      "Número total de iteraciones  4\n"
     ]
    }
   ],
   "source": [
    "NewtonRaphson(f,df,a,b,b,tol)"
   ]
  },
  {
   "cell_type": "markdown",
   "id": "15ff4f3a",
   "metadata": {},
   "source": [
    "ii) $3x=2+x^2-e^x$."
   ]
  },
  {
   "cell_type": "code",
   "execution_count": 53,
   "id": "620150a9",
   "metadata": {},
   "outputs": [],
   "source": [
    "def fsym(x):\n",
    "    return x**(2)-3*x+2-sp.exp(x) "
   ]
  },
  {
   "cell_type": "code",
   "execution_count": 54,
   "id": "70a15028",
   "metadata": {},
   "outputs": [],
   "source": [
    "def f(x):\n",
    "    return fsym(x)"
   ]
  },
  {
   "cell_type": "code",
   "execution_count": 55,
   "id": "60f99133",
   "metadata": {},
   "outputs": [
    {
     "data": {
      "text/plain": [
       "(x**2 - 3*x - exp(x) + 2, 2*x - exp(x) - 3)"
      ]
     },
     "execution_count": 55,
     "metadata": {},
     "output_type": "execute_result"
    }
   ],
   "source": [
    "f(x),sp.diff(f(x),x)"
   ]
  },
  {
   "cell_type": "code",
   "execution_count": 56,
   "id": "e69b138c",
   "metadata": {},
   "outputs": [],
   "source": [
    "def fnum(x):\n",
    "    return x**(2)-3*x+2-sp.exp(x) "
   ]
  },
  {
   "cell_type": "code",
   "execution_count": 57,
   "id": "d18ff917",
   "metadata": {},
   "outputs": [],
   "source": [
    "def df(x):\n",
    "    return 2*x - sp.exp(x)   - 3"
   ]
  },
  {
   "cell_type": "code",
   "execution_count": 58,
   "id": "d1602d61",
   "metadata": {},
   "outputs": [
    {
     "data": {
      "image/png": "[encoded data removed]",
      "text/plain": [
       "<Figure size 432x288 with 1 Axes>"
      ]
     },
     "metadata": {
      "needs_background": "light"
     },
     "output_type": "display_data"
    },
    {
     "data": {
      "text/plain": [
       "<sympy.plotting.plot.Plot at 0x20b54f84430>"
      ]
     },
     "execution_count": 58,
     "metadata": {},
     "output_type": "execute_result"
    }
   ],
   "source": [
    "sp.plot(f(x),(x,0,2))"
   ]
  },
  {
   "cell_type": "code",
   "execution_count": 60,
   "id": "66381d31",
   "metadata": {},
   "outputs": [
    {
     "name": "stdout",
     "output_type": "stream",
     "text": [
      "sale el programa por  precision\n",
      "Posiblemente solución exacta:  0.257528900794710\n",
      "Solución exacta con  5  cifras significativas 0.25753\n",
      "Número total de iteraciones  2\n"
     ]
    }
   ],
   "source": [
    "NewtonRaphson(f,df,0,0.5,0.5,tol)"
   ]
  },
  {
   "cell_type": "markdown",
   "id": "219080a8",
   "metadata": {},
   "source": [
    "iii) $x^2+10\\, cos x+x=0$."
   ]
  },
  {
   "cell_type": "code",
   "execution_count": 61,
   "id": "590bbfbe",
   "metadata": {},
   "outputs": [],
   "source": [
    "from sympy import Symbol, simplify, sin, cos, pi"
   ]
  },
  {
   "cell_type": "code",
   "execution_count": 62,
   "id": "57121b94",
   "metadata": {},
   "outputs": [],
   "source": [
    "def fsym(x):\n",
    "    return x**(2)+10*cos(x)+x "
   ]
  },
  {
   "cell_type": "code",
   "execution_count": 63,
   "id": "067fd07e",
   "metadata": {},
   "outputs": [],
   "source": [
    "def f(x):\n",
    "    return fsym(x)"
   ]
  },
  {
   "cell_type": "code",
   "execution_count": 64,
   "id": "ee73c41b",
   "metadata": {},
   "outputs": [],
   "source": [
    "def fnum(x):\n",
    "    return x**(2)+10*cos(x)+x "
   ]
  },
  {
   "cell_type": "code",
   "execution_count": 65,
   "id": "1ca7b332",
   "metadata": {},
   "outputs": [
    {
     "data": {
      "text/plain": [
       "(x**2 + x + 10*cos(x), 2*x - 10*sin(x) + 1)"
      ]
     },
     "execution_count": 65,
     "metadata": {},
     "output_type": "execute_result"
    }
   ],
   "source": [
    "f(x),sp.diff(f(x),x)"
   ]
  },
  {
   "cell_type": "code",
   "execution_count": 66,
   "id": "e54769e5",
   "metadata": {},
   "outputs": [],
   "source": [
    "def df(x):\n",
    "    return 2*x - 10*sin(x) + 1"
   ]
  },
  {
   "cell_type": "code",
   "execution_count": 67,
   "id": "2065a9c6",
   "metadata": {},
   "outputs": [
    {
     "data": {
      "image/png": "[encoded data removed]",
      "text/plain": [
       "<Figure size 432x288 with 1 Axes>"
      ]
     },
     "metadata": {
      "needs_background": "light"
     },
     "output_type": "display_data"
    },
    {
     "data": {
      "text/plain": [
       "<sympy.plotting.plot.Plot at 0x20b54e72e20>"
      ]
     },
     "execution_count": 67,
     "metadata": {},
     "output_type": "execute_result"
    }
   ],
   "source": [
    "sp.plot(f(x),(x,-2,-1.5))"
   ]
  },
  {
   "cell_type": "code",
   "execution_count": 69,
   "id": "4400f8b8",
   "metadata": {},
   "outputs": [
    {
     "name": "stdout",
     "output_type": "stream",
     "text": [
      "sale el programa por  precision\n",
      "Posiblemente solución exacta:  -1.68693957359932\n",
      "Solución exacta con  5  cifras significativas -1.68694\n",
      "Número total de iteraciones  2\n"
     ]
    }
   ],
   "source": [
    "NewtonRaphson(f,df,-1.7,-1.6,-1.6,tol)"
   ]
  },
  {
   "cell_type": "markdown",
   "id": "80c1a47c",
   "metadata": {},
   "source": [
    "4.- Para la función  $ f(x)= 3 x^2+e^x-1$, \n",
    "\n",
    "i) encuentre, mediante el método de bisección una aproximación de la raíz en $[0,1]$ con, al menos, cuatro decimales exactos (tol =$10^{-4}$), y determine el número de iteraciones realizadas;\n",
    "\n",
    "ii) encuentre, mediante el método de Newton-Raphson, una aproximación de la raíz en $[0,1]$ con una tolerancia de $10^{-4}$, partiendo de $x_0=0$, y determine el número de iteraciones realizadas.  \n"
   ]
  },
  {
   "cell_type": "code",
   "execution_count": 70,
   "id": "a390a438",
   "metadata": {},
   "outputs": [],
   "source": [
    "tol = 10**-4"
   ]
  },
  {
   "cell_type": "code",
   "execution_count": 71,
   "id": "8d2d244e",
   "metadata": {},
   "outputs": [
    {
     "data": {
      "text/plain": [
       "(0.001, 0.0001)"
      ]
     },
     "execution_count": 71,
     "metadata": {},
     "output_type": "execute_result"
    }
   ],
   "source": [
    "prec, tol"
   ]
  },
  {
   "cell_type": "code",
   "execution_count": 72,
   "id": "d9b65763",
   "metadata": {},
   "outputs": [],
   "source": [
    "a=0; b=1"
   ]
  },
  {
   "cell_type": "code",
   "execution_count": 73,
   "id": "9e061e84",
   "metadata": {},
   "outputs": [],
   "source": [
    "def fsym(x):\n",
    "    return 3*x**(2)+sp.exp(x) -1"
   ]
  },
  {
   "cell_type": "code",
   "execution_count": 74,
   "id": "ca895db4",
   "metadata": {},
   "outputs": [],
   "source": [
    "def f(x):\n",
    "    return fsym(x)"
   ]
  },
  {
   "cell_type": "code",
   "execution_count": 75,
   "id": "f5dd2937",
   "metadata": {},
   "outputs": [
    {
     "data": {
      "image/png": "[encoded data removed]",
      "text/plain": [
       "<Figure size 432x288 with 1 Axes>"
      ]
     },
     "metadata": {
      "needs_background": "light"
     },
     "output_type": "display_data"
    },
    {
     "data": {
      "text/plain": [
       "<sympy.plotting.plot.Plot at 0x20b54fd1e50>"
      ]
     },
     "execution_count": 75,
     "metadata": {},
     "output_type": "execute_result"
    }
   ],
   "source": [
    "sp.plot(f(x),(x,-0.5,1))"
   ]
  },
  {
   "cell_type": "code",
   "execution_count": 79,
   "id": "d08315de",
   "metadata": {},
   "outputs": [
    {
     "name": "stdout",
     "output_type": "stream",
     "text": [
      "Posiblemente solución exacta:  0.0009765625\n",
      "Solución exacta con  4  cifras significativas 0.001\n",
      "Número total de iteraciones  10\n"
     ]
    }
   ],
   "source": [
    "biseccion(f, a,b, 10*-4, 100, 4)"
   ]
  },
  {
   "cell_type": "code",
   "execution_count": 80,
   "id": "8b829968",
   "metadata": {},
   "outputs": [
    {
     "name": "stdout",
     "output_type": "stream",
     "text": [
      "sale el programa por  tolerancia\n",
      "Aproximación solicitada:  0\n",
      "Solución exacta con  5  cifras significativas 0\n",
      "Número total de iteraciones  1\n"
     ]
    }
   ],
   "source": [
    "NewtonRaphson(f,df,a,b,0,tol)"
   ]
  },
  {
   "cell_type": "markdown",
   "id": "252723a5",
   "metadata": {},
   "source": [
    "5.- Utilice las órdenes apropiadas de Python para aproximar todos los puntos donde se anulan las funciones siguientes (si es necesario, represéntelas gráficamente):\n",
    "\n",
    "i) $f(x)=x^7-x^4+2$ ,\n"
   ]
  },
  {
   "cell_type": "code",
   "execution_count": 81,
   "id": "451584cf",
   "metadata": {},
   "outputs": [],
   "source": [
    "def fsym(x):\n",
    "    return x**(7)-x**(4)+2"
   ]
  },
  {
   "cell_type": "code",
   "execution_count": 82,
   "id": "0a3047bd",
   "metadata": {},
   "outputs": [],
   "source": [
    "def f(x):\n",
    "    return fsym(x)"
   ]
  },
  {
   "cell_type": "code",
   "execution_count": 83,
   "id": "e6968b72",
   "metadata": {},
   "outputs": [
    {
     "data": {
      "image/png": "[encoded data removed]",
      "text/plain": [
       "<Figure size 432x288 with 1 Axes>"
      ]
     },
     "metadata": {
      "needs_background": "light"
     },
     "output_type": "display_data"
    },
    {
     "data": {
      "text/plain": [
       "<sympy.plotting.plot.Plot at 0x20b5501f400>"
      ]
     },
     "execution_count": 83,
     "metadata": {},
     "output_type": "execute_result"
    }
   ],
   "source": [
    "sp.plot(f(x),(x,-5,5))"
   ]
  },
  {
   "cell_type": "code",
   "execution_count": 84,
   "id": "0413f813",
   "metadata": {},
   "outputs": [],
   "source": [
    "from sympy.solvers import solve"
   ]
  },
  {
   "cell_type": "code",
   "execution_count": 85,
   "id": "05ee6732",
   "metadata": {},
   "outputs": [
    {
     "data": {
      "text/plain": [
       "[-1,\n",
       " CRootOf(x**6 - x**5 + x**4 - 2*x**3 + 2*x**2 - 2*x + 2, 0),\n",
       " CRootOf(x**6 - x**5 + x**4 - 2*x**3 + 2*x**2 - 2*x + 2, 1),\n",
       " CRootOf(x**6 - x**5 + x**4 - 2*x**3 + 2*x**2 - 2*x + 2, 2),\n",
       " CRootOf(x**6 - x**5 + x**4 - 2*x**3 + 2*x**2 - 2*x + 2, 3),\n",
       " CRootOf(x**6 - x**5 + x**4 - 2*x**3 + 2*x**2 - 2*x + 2, 4),\n",
       " CRootOf(x**6 - x**5 + x**4 - 2*x**3 + 2*x**2 - 2*x + 2, 5)]"
      ]
     },
     "execution_count": 85,
     "metadata": {},
     "output_type": "execute_result"
    }
   ],
   "source": [
    "solve(x**(7)-x**(4)+2)"
   ]
  },
  {
   "cell_type": "markdown",
   "id": "7e8ecc36",
   "metadata": {},
   "source": [
    "ii) $f(x)=x^7+\\cos  x-3$."
   ]
  },
  {
   "cell_type": "code",
   "execution_count": 86,
   "id": "b45ca3aa",
   "metadata": {},
   "outputs": [],
   "source": [
    "def fsym(x):\n",
    "    return x**(7)+cos(x)-3"
   ]
  },
  {
   "cell_type": "code",
   "execution_count": 87,
   "id": "20b79170",
   "metadata": {},
   "outputs": [],
   "source": [
    "def f(x):\n",
    "    return fsym(x)"
   ]
  },
  {
   "cell_type": "code",
   "execution_count": 88,
   "id": "d95090b4",
   "metadata": {},
   "outputs": [
    {
     "data": {
      "image/png": "[encoded data removed]",
      "text/plain": [
       "<Figure size 432x288 with 1 Axes>"
      ]
     },
     "metadata": {
      "needs_background": "light"
     },
     "output_type": "display_data"
    },
    {
     "data": {
      "text/plain": [
       "<sympy.plotting.plot.Plot at 0x20b551418e0>"
      ]
     },
     "execution_count": 88,
     "metadata": {},
     "output_type": "execute_result"
    }
   ],
   "source": [
    "sp.plot(f(x),(x,1.,1.5))"
   ]
  },
  {
   "cell_type": "code",
   "execution_count": 89,
   "id": "d48e9f7a",
   "metadata": {},
   "outputs": [
    {
     "data": {
      "text/latex": [
       "$\\displaystyle 1.14545980727001$"
      ],
      "text/plain": [
       "1.14545980727001"
      ]
     },
     "execution_count": 89,
     "metadata": {},
     "output_type": "execute_result"
    }
   ],
   "source": [
    "sp.nsolve(x**7+cos(x)-3,x,1)"
   ]
  }
 ],
 "metadata": {
  "kernelspec": {
   "display_name": "Python 3 (ipykernel)",
   "language": "python",
   "name": "python3"
  },
  "language_info": {
   "codemirror_mode": {
    "name": "ipython",
    "version": 3
   },
   "file_extension": ".py",
   "mimetype": "text/x-python",
   "name": "python",
   "nbconvert_exporter": "python",
   "pygments_lexer": "ipython3",
   "version": "3.9.7"
  }
 },
 "nbformat": 4,
 "nbformat_minor": 5
}
